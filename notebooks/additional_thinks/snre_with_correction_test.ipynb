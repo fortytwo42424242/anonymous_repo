{
 "cells": [
  {
   "cell_type": "code",
   "execution_count": 1,
   "id": "7f07d96f",
   "metadata": {},
   "outputs": [],
   "source": [
    "import sbibm\n",
    "from sbi.inference import SNRE_A\n",
    "import torch\n",
    "from torch import nn\n",
    "from torch import Tensor, nn, ones\n",
    "from sbibm.tasks.bernoulli_glm.task import BernoulliGLM"
   ]
  },
  {
   "cell_type": "code",
   "execution_count": 2,
   "id": "b349a35e",
   "metadata": {},
   "outputs": [],
   "source": [
    "def simulator(theta):\n",
    "    return theta + torch.randn(theta.shape)"
   ]
  },
  {
   "cell_type": "code",
   "execution_count": 3,
   "id": "d96e633a",
   "metadata": {},
   "outputs": [],
   "source": [
    "task = sbibm.get_task(\"two_moons\")\n",
    "prior = task.get_prior_dist()\n",
    "\n",
    "thetas = prior.sample((1000000,))\n",
    "xs = simulator(thetas)\n",
    "observation = torch.ones(1,2)*0\n",
    "kernel = lambda x: torch.exp(-6*torch.sum((x-observation)**2,-1))"
   ]
  },
  {
   "cell_type": "code",
   "execution_count": 4,
   "id": "c8d5ef78",
   "metadata": {},
   "outputs": [],
   "source": [
    "def correction_factor(theta, N=1000):\n",
    "    xs = simulator(theta.repeat(N,1)).reshape(N,-1, 2)\n",
    "    return kernel(xs).mean(0)"
   ]
  },
  {
   "cell_type": "code",
   "execution_count": 5,
   "id": "21444322",
   "metadata": {},
   "outputs": [],
   "source": [
    "from sbi import utils as utils\n",
    "def _loss(self, theta, x, num_atoms=2):\n",
    "    \"\"\"\n",
    "    Returns the binary cross-entropy loss for the trained classifier.\n",
    "    The classifier takes as input a $(\\theta,x)$ pair. It is trained to predict 1\n",
    "    if the pair was sampled from the joint $p(\\theta,x)$, and to predict 0 if the\n",
    "    pair was sampled from the marginals $p(\\theta)p(x)$.\n",
    "    \"\"\"\n",
    "\n",
    "    assert theta.shape[0] == x.shape[0], \"Batch sizes for theta and x must match.\"\n",
    "    batch_size = theta.shape[0]\n",
    "\n",
    "    logits = self._classifier_logits(theta, x, num_atoms)\n",
    "    likelihood = torch.sigmoid(logits).squeeze()\n",
    "\n",
    "    # Alternating pairs where there is one sampled from the joint and one\n",
    "    # sampled from the marginals. The first element is sampled from the\n",
    "    # joint p(theta, x) and is labelled 1. The second element is sampled\n",
    "    # from the marginals p(theta)p(x) and is labelled 0. And so on.\n",
    "    labels = ones(2 * batch_size, device=self._device)  # two atoms\n",
    "    labels[1::2] = 0.0\n",
    "    weights = kernel(utils.repeat_rows(x, num_atoms))\n",
    "\n",
    "    # Binary cross entropy to learn the likelihood (AALR-specific)\n",
    "    return nn.BCELoss(weight=weights)(likelihood, labels)"
   ]
  },
  {
   "cell_type": "code",
   "execution_count": 6,
   "id": "de40b1a9",
   "metadata": {},
   "outputs": [],
   "source": [
    "inf = SNRE_A(prior)"
   ]
  },
  {
   "cell_type": "code",
   "execution_count": 7,
   "id": "6eb4687b",
   "metadata": {},
   "outputs": [],
   "source": [
    "inf._loss = lambda theta,x, *args: _loss(inf, theta,x,*args)"
   ]
  },
  {
   "cell_type": "code",
   "execution_count": 8,
   "id": "4e352a16",
   "metadata": {},
   "outputs": [
    {
     "data": {
      "text/plain": [
       "<sbi.inference.snre.snre_a.SNRE_A at 0x7f2e4d9d9610>"
      ]
     },
     "execution_count": 8,
     "metadata": {},
     "output_type": "execute_result"
    }
   ],
   "source": [
    "inf.append_simulations(thetas,xs)"
   ]
  },
  {
   "cell_type": "code",
   "execution_count": null,
   "id": "8b0577fc",
   "metadata": {
    "scrolled": true
   },
   "outputs": [
    {
     "name": "stdout",
     "output_type": "stream",
     "text": [
      "Training neural network. Epochs trained:  13\r"
     ]
    }
   ],
   "source": [
    "inf.train()"
   ]
  },
  {
   "cell_type": "code",
   "execution_count": null,
   "id": "407ddf7f",
   "metadata": {},
   "outputs": [],
   "source": [
    "posterior = inf.build_posterior(sample_with=\"mcmc\")\n",
    "posterior.set_default_x(observation)"
   ]
  },
  {
   "cell_type": "code",
   "execution_count": null,
   "id": "ec2ac0a4",
   "metadata": {},
   "outputs": [],
   "source": [
    "import numpy as np\n",
    "X = np.linspace(-1, 1, 500)\n",
    "Y = np.linspace(-1, 1, 500)\n",
    "X, Y = np.meshgrid(X, Y)\n",
    "\n",
    "pos = np.empty(X.shape + (2,))\n",
    "pos[:, :, 0] = X\n",
    "pos[:, :, 1] = Y\n",
    "\n",
    "Z = posterior.log_prob(torch.tensor(pos).reshape(-1,2).float()).reshape(500,500).exp()"
   ]
  },
  {
   "cell_type": "code",
   "execution_count": null,
   "id": "42518747",
   "metadata": {},
   "outputs": [],
   "source": [
    "import matplotlib.pyplot as plt"
   ]
  },
  {
   "cell_type": "code",
   "execution_count": null,
   "id": "b8ec630d",
   "metadata": {},
   "outputs": [],
   "source": [
    "plt.contourf(X, Y, Z, zdir='z', cmap=\"viridis\", levels=20, rasterized=False)"
   ]
  },
  {
   "cell_type": "code",
   "execution_count": null,
   "id": "3f770cd9",
   "metadata": {},
   "outputs": [],
   "source": [
    "# corrected\n",
    "Z = Z * correction_factor(torch.tensor(pos.reshape(-1,2)), N=10000).reshape(500,500)"
   ]
  },
  {
   "cell_type": "code",
   "execution_count": null,
   "id": "1aba54ca",
   "metadata": {},
   "outputs": [],
   "source": [
    "# The correction factor value\n",
    "plt.contourf(X, Y, Z, zdir='z', cmap=\"viridis\", levels=20, rasterized=False)"
   ]
  },
  {
   "cell_type": "code",
   "execution_count": null,
   "id": "1bf9084e",
   "metadata": {},
   "outputs": [],
   "source": [
    "Z = torch.distributions.MultivariateNormal(observation, torch.eye(2)).log_prob(torch.tensor(pos.reshape(-1,2)).float()).exp().reshape(500,500)"
   ]
  },
  {
   "cell_type": "code",
   "execution_count": null,
   "id": "985c390b",
   "metadata": {},
   "outputs": [],
   "source": [
    "# closed form posterior\n",
    "plt.contourf(X, Y, Z, zdir='z', cmap=\"viridis\", levels=20, rasterized=False)"
   ]
  },
  {
   "cell_type": "code",
   "execution_count": null,
   "id": "27dc9cca",
   "metadata": {},
   "outputs": [],
   "source": []
  }
 ],
 "metadata": {
  "kernelspec": {
   "display_name": "Python 3",
   "language": "python",
   "name": "python3"
  },
  "language_info": {
   "codemirror_mode": {
    "name": "ipython",
    "version": 3
   },
   "file_extension": ".py",
   "mimetype": "text/x-python",
   "name": "python",
   "nbconvert_exporter": "python",
   "pygments_lexer": "ipython3",
   "version": "3.8.1"
  }
 },
 "nbformat": 4,
 "nbformat_minor": 5
}
