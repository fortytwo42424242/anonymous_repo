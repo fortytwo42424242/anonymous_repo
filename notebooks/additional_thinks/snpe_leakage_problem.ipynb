{
 "cells": [
  {
   "cell_type": "code",
   "execution_count": 1,
   "id": "33ce863b",
   "metadata": {},
   "outputs": [],
   "source": [
    "from sbi.inference import SNPE_C"
   ]
  },
  {
   "cell_type": "code",
   "execution_count": 2,
   "id": "e416c622",
   "metadata": {},
   "outputs": [],
   "source": [
    "from sbivibm.tasks import Pyloric"
   ]
  },
  {
   "cell_type": "code",
   "execution_count": 3,
   "id": "f6a24ac5",
   "metadata": {},
   "outputs": [
    {
     "data": {
      "text/plain": [
       "<torch._C.Generator at 0x7fbf040ccd30>"
      ]
     },
     "execution_count": 3,
     "metadata": {},
     "output_type": "execute_result"
    }
   ],
   "source": [
    "import random\n",
    "import numpy as np\n",
    "import torch\n",
    "\n",
    "seed = 0\n",
    "random.seed(seed)\n",
    "np.random.seed(seed)\n",
    "torch.manual_seed(seed)"
   ]
  },
  {
   "cell_type": "code",
   "execution_count": 4,
   "id": "8f9931c1",
   "metadata": {},
   "outputs": [
    {
     "name": "stderr",
     "output_type": "stream",
     "text": [
      "/mnt/qb/home/macke/mgloeckler90/snlvibm/sbivibm/sbivibm/tasks/pyloric_stg/pyloric_stg.py:198: UserWarning: indexing with dtype torch.uint8 is now deprecated, please use a dtype torch.bool instead. (Triggered internally at  /pytorch/aten/src/ATen/native/IndexingUtils.h:30.)\n",
      "  xs[np.isnan(xs)] = self.nan_replace\n"
     ]
    }
   ],
   "source": [
    "task = Pyloric()\n",
    "prior = task.get_prior_dist()\n",
    "samples, xs = task.get_precomputed_dataset()"
   ]
  },
  {
   "cell_type": "code",
   "execution_count": 5,
   "id": "60847526",
   "metadata": {},
   "outputs": [],
   "source": [
    "# In experiment3 we only use 50 000 sims in the first round thus\n",
    "samples = samples[:50000]\n",
    "xs = xs[:50000]"
   ]
  },
  {
   "cell_type": "code",
   "execution_count": 6,
   "id": "f6e054ec",
   "metadata": {},
   "outputs": [],
   "source": [
    "# We only use valid sims\n",
    "mask = (xs!=-99).all(1)\n",
    "samples = samples[mask]\n",
    "xs = xs[mask]"
   ]
  },
  {
   "cell_type": "code",
   "execution_count": 7,
   "id": "a93ae066",
   "metadata": {},
   "outputs": [],
   "source": [
    "inf = SNPE_C(prior)"
   ]
  },
  {
   "cell_type": "code",
   "execution_count": 8,
   "id": "5e8557f3",
   "metadata": {},
   "outputs": [
    {
     "name": "stdout",
     "output_type": "stream",
     "text": [
      "Neural network successfully converged after 188 epochs.\n"
     ]
    }
   ],
   "source": [
    "density_estimator = inf.append_simulations(samples, xs).train(training_batch_size=1000)"
   ]
  },
  {
   "cell_type": "code",
   "execution_count": 9,
   "id": "9a8e2e05",
   "metadata": {},
   "outputs": [
    {
     "data": {
      "text/plain": [
       "DirectPosterior(\n",
       "               method_family=snpe,\n",
       "               net=<a Flow, see `.net` for details>,\n",
       "               prior=BoxUniform(Uniform(low: torch.Size([31]), high: torch.Size([31])), 1),\n",
       "               x_shape=torch.Size([1, 15]))\n",
       "               "
      ]
     },
     "execution_count": 9,
     "metadata": {},
     "output_type": "execute_result"
    }
   ],
   "source": [
    "posterior = inf.build_posterior()\n",
    "posterior.set_default_x(task.get_observation(2))"
   ]
  },
  {
   "cell_type": "code",
   "execution_count": 10,
   "id": "1803af0a",
   "metadata": {},
   "outputs": [],
   "source": [
    "simulator = task.get_simulator(sim_type=\"slurm\")"
   ]
  },
  {
   "cell_type": "code",
   "execution_count": 11,
   "id": "f0f3a8c1",
   "metadata": {},
   "outputs": [
    {
     "data": {
      "application/vnd.jupyter.widget-view+json": {
       "model_id": "1a070d805c6949c2bdb326fa6f4ec76d",
       "version_major": 2,
       "version_minor": 0
      },
      "text/plain": [
       "Drawing 10000 posterior samples:   0%|          | 0/10000 [00:00<?, ?it/s]"
      ]
     },
     "metadata": {},
     "output_type": "display_data"
    }
   ],
   "source": [
    "samples = posterior.sample((10000,))"
   ]
  },
  {
   "cell_type": "code",
   "execution_count": 12,
   "id": "b3ab237a",
   "metadata": {},
   "outputs": [
    {
     "name": "stdout",
     "output_type": "stream",
     "text": [
      "Completed 20/20 jobs"
     ]
    }
   ],
   "source": [
    "xs = simulator(samples)"
   ]
  },
  {
   "cell_type": "code",
   "execution_count": 13,
   "id": "75434724",
   "metadata": {},
   "outputs": [
    {
     "data": {
      "text/plain": [
       "2186"
      ]
     },
     "execution_count": 13,
     "metadata": {},
     "output_type": "execute_result"
    }
   ],
   "source": [
    "# Only valids\n",
    "mask = (xs != -99).all(1)\n",
    "samples = samples[mask]\n",
    "xs = xs[mask]\n",
    "len(xs)"
   ]
  },
  {
   "cell_type": "code",
   "execution_count": 14,
   "id": "b9a878ff",
   "metadata": {},
   "outputs": [
    {
     "name": "stdout",
     "output_type": "stream",
     "text": [
      "Using SNPE-C with atomic loss\n",
      "Neural network successfully converged after 125 epochs.\n"
     ]
    }
   ],
   "source": [
    "density_estimator = inf.append_simulations(samples, xs, proposal=posterior).train(training_batch_size=1000)"
   ]
  },
  {
   "cell_type": "code",
   "execution_count": 22,
   "id": "c104d4e9",
   "metadata": {
    "scrolled": true
   },
   "outputs": [
    {
     "name": "stdout",
     "output_type": "stream",
     "text": [
      "tensor(0)\n",
      "tensor(0)\n",
      "tensor(0)\n",
      "tensor(0)\n",
      "tensor(0)\n",
      "tensor(0)\n",
      "tensor(0)\n",
      "tensor(0)\n",
      "tensor(0)\n",
      "tensor(0)\n",
      "tensor(0)\n",
      "tensor(0)\n",
      "tensor(0)\n",
      "tensor(0)\n",
      "tensor(0)\n",
      "tensor(0)\n",
      "tensor(0)\n",
      "tensor(0)\n",
      "tensor(0)\n",
      "tensor(0)\n",
      "tensor(0)\n",
      "tensor(0)\n",
      "tensor(0)\n",
      "tensor(0)\n",
      "tensor(0)\n",
      "tensor(0)\n",
      "tensor(0)\n",
      "tensor(0)\n",
      "tensor(0)\n",
      "tensor(0)\n",
      "tensor(0)\n",
      "tensor(0)\n",
      "tensor(0)\n",
      "tensor(0)\n",
      "tensor(0)\n",
      "tensor(0)\n",
      "tensor(0)\n",
      "tensor(0)\n",
      "tensor(0)\n",
      "tensor(0)\n",
      "tensor(0)\n",
      "tensor(0)\n",
      "tensor(0)\n",
      "tensor(1)\n"
     ]
    }
   ],
   "source": [
    "total_num_of_needed_samples = 0\n",
    "for i in range(100):\n",
    "    total_num_of_needed_samples += 50000\n",
    "    round2_samples = density_estimator.sample(50000, task.get_observation(2)).squeeze()\n",
    "    print(prior.support.check(round2_samples).sum())\n",
    "    if prior.support.check(round2_samples).sum() > 0:\n",
    "        break"
   ]
  },
  {
   "cell_type": "code",
   "execution_count": 26,
   "id": "24e6c4dc",
   "metadata": {},
   "outputs": [
    {
     "data": {
      "text/plain": [
       "4.545454545454545e-05"
      ]
     },
     "execution_count": 26,
     "metadata": {},
     "output_type": "execute_result"
    }
   ],
   "source": [
    "(1/total_num_of_needed_samples)*100"
   ]
  },
  {
   "cell_type": "code",
   "execution_count": 27,
   "id": "31070c9c",
   "metadata": {},
   "outputs": [
    {
     "data": {
      "text/plain": [
       "2200000"
      ]
     },
     "execution_count": 27,
     "metadata": {},
     "output_type": "execute_result"
    }
   ],
   "source": [
    "total_num_of_needed_samples"
   ]
  }
 ],
 "metadata": {
  "kernelspec": {
   "display_name": "Python 3",
   "language": "python",
   "name": "python3"
  },
  "language_info": {
   "codemirror_mode": {
    "name": "ipython",
    "version": 3
   },
   "file_extension": ".py",
   "mimetype": "text/x-python",
   "name": "python",
   "nbconvert_exporter": "python",
   "pygments_lexer": "ipython3",
   "version": "3.8.1"
  }
 },
 "nbformat": 4,
 "nbformat_minor": 5
}
